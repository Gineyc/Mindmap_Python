{
 "cells": [
  {
   "cell_type": "markdown",
   "metadata": {},
   "source": [
    "# Bubble Sort \n",
    "- Runtime O(n^2) on average and worst case \n",
    "- Memory O(1)\n",
    "- The simplest sorting algorithm that works by repeatedly swapping the adjacent elements if they are in wrong order\n"
   ]
  },
  {
   "cell_type": "code",
   "execution_count": 26,
   "metadata": {},
   "outputs": [],
   "source": [
    "def bubble_sort(lst):\n",
    "    length= len(lst)\n",
    "    for i in range(length-1):\n",
    "        swapped=False\n",
    "        for j in range(length-i-1):\n",
    "            if lst[j]>lst[j+1]:\n",
    "                lst[j],lst[j+1]=lst[j+1],lst[j]\n",
    "                swapped=True\n",
    "        if not swapped:\n",
    "            return lst"
   ]
  },
  {
   "cell_type": "code",
   "execution_count": 27,
   "metadata": {},
   "outputs": [
    {
     "output_type": "execute_result",
     "data": {
      "text/plain": "[2, 3, 44, 66]"
     },
     "metadata": {},
     "execution_count": 27
    }
   ],
   "source": [
    "bubble_sort([3,2,66,44])"
   ]
  },
  {
   "cell_type": "code",
   "execution_count": 28,
   "metadata": {},
   "outputs": [
    {
     "output_type": "execute_result",
     "data": {
      "text/plain": "[-23, -4, 0, 6, 34]"
     },
     "metadata": {},
     "execution_count": 28
    }
   ],
   "source": [
    "bubble_sort([-23, 0, 6, -4, 34])"
   ]
  },
  {
   "cell_type": "markdown",
   "metadata": {},
   "source": [
    "# Selection Sort \n",
    "- Runtime O(n^2) on average and worst case\n",
    "- Memory O(1)\n"
   ]
  },
  {
   "cell_type": "code",
   "execution_count": 35,
   "metadata": {},
   "outputs": [],
   "source": [
    "def selection_sort(lst):\n",
    "    length=len(lst)\n",
    "    for i in range(length-1):\n",
    "        minumum = lst[i]\n",
    "        index=i\n",
    "        for j in range(i+1,length):\n",
    "            if lst[j]<minumum:\n",
    "                minumum=lst[j]\n",
    "                index=j\n",
    "        lst[i],lst[index]=lst[index],lst[i]\n",
    "    return lst\n"
   ]
  },
  {
   "cell_type": "code",
   "execution_count": 32,
   "metadata": {},
   "outputs": [
    {
     "output_type": "execute_result",
     "data": {
      "text/plain": "[-23, -4, 0, 6, 34]"
     },
     "metadata": {},
     "execution_count": 32
    }
   ],
   "source": [
    "selection_sort([-23, 0, 6, -4, 34])"
   ]
  },
  {
   "cell_type": "code",
   "execution_count": 38,
   "metadata": {},
   "outputs": [
    {
     "output_type": "execute_result",
     "data": {
      "text/plain": "[2, 2, 3, 3, 5, 44, 66]"
     },
     "metadata": {},
     "execution_count": 38
    }
   ],
   "source": [
    "selection_sort([3,5,3,2,2,66,44])"
   ]
  },
  {
   "cell_type": "markdown",
   "metadata": {},
   "source": [
    "# Merge Sort\n",
    "- Runtime O(nlog(n)) on average and worst case\n",
    "- Memory: depends\n",
    "- Divide and Conquer"
   ]
  },
  {
   "cell_type": "code",
   "execution_count": 47,
   "metadata": {},
   "outputs": [],
   "source": [
    "def merge_sort(lst):\n",
    "    def merge(left,right):\n",
    "        result=[]\n",
    "        i=j=0\n",
    "        while i < len(left) and j < len(right):\n",
    "            if left[i]<=right[j]:\n",
    "                result.append(left[i])\n",
    "                i+=1\n",
    "            else:\n",
    "                result.append(right[j])\n",
    "                j+=1\n",
    "        result += left[i:]\n",
    "        result += right[j:]\n",
    "        return result\n",
    "\n",
    "    \n",
    "    if len(lst)<=1:\n",
    "        return lst\n",
    "    mid = len(lst)//2\n",
    "    left = merge_sort(lst[:mid])\n",
    "    right = merge_sort(lst[mid:])\n",
    "    return merge(left,right)\n",
    "    "
   ]
  },
  {
   "cell_type": "code",
   "execution_count": 46,
   "metadata": {},
   "outputs": [
    {
     "output_type": "execute_result",
     "data": {
      "text/plain": "[2, 2, 3, 3, 5, 44, 66]"
     },
     "metadata": {},
     "execution_count": 46
    }
   ],
   "source": [
    "merge_sort([3,5,3,2,2,66,44])"
   ]
  },
  {
   "cell_type": "markdown",
   "metadata": {},
   "source": [
    "# Quick Sort\n",
    "- Runtime O(nlog(n)) on average, O(n^2) worst case\n",
    "- Memory O(log(n))\n"
   ]
  },
  {
   "cell_type": "code",
   "execution_count": 52,
   "metadata": {},
   "outputs": [],
   "source": [
    "def quick_sort(lst):\n",
    "    if len(lst)<=1:\n",
    "        return lst\n",
    "    else:\n",
    "        pivot = lst.pop(0)\n",
    "        larger=[]\n",
    "        smaller=[]\n",
    "        for i in lst:\n",
    "            if i<pivot:\n",
    "                smaller.append(i)\n",
    "            else:\n",
    "                larger.append(i)\n",
    "        return quick_sort(smaller)+[pivot]+quick_sort(larger)"
   ]
  },
  {
   "cell_type": "code",
   "execution_count": 53,
   "metadata": {},
   "outputs": [
    {
     "output_type": "execute_result",
     "data": {
      "text/plain": "[2, 2, 3, 3, 5, 44, 66]"
     },
     "metadata": {},
     "execution_count": 53
    }
   ],
   "source": [
    "quick_sort([3,5,3,2,2,66,44])"
   ]
  }
 ],
 "metadata": {
  "language_info": {
   "codemirror_mode": {
    "name": "ipython",
    "version": 3
   },
   "file_extension": ".py",
   "mimetype": "text/x-python",
   "name": "python",
   "nbconvert_exporter": "python",
   "pygments_lexer": "ipython3",
   "version": "3.7.7-final"
  },
  "orig_nbformat": 2,
  "kernelspec": {
   "name": "python37764bitbaseconda6dbd0a79d65342aaac9adf279ef76d69",
   "display_name": "Python 3.7.7 64-bit ('base': conda)"
  }
 },
 "nbformat": 4,
 "nbformat_minor": 2
}