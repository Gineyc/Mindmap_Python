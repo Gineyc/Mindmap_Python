{
 "cells": [
  {
   "cell_type": "markdown",
   "metadata": {},
   "source": [
    "# Graph\n",
    "A tree is a type of graph, but not all graphs are trees.\n",
    "\n",
    "A tree is a connected graph without cycles."
   ]
  },
  {
   "cell_type": "markdown",
   "metadata": {},
   "source": [
    "# Adjacency List\n",
    "A common way to represent a graph, every vertex (node) stores a list of adjacent vertices. \n",
    "- In undirected graph, an edge like (a,b) would be stored twice."
   ]
  },
  {
   "cell_type": "code",
   "execution_count": 131,
   "metadata": {},
   "outputs": [
    {
     "output_type": "stream",
     "name": "stdout",
     "text": "Adjacency list of vertex \n head -> 4  -> 1  \n\nAdjacency list of vertex \n head -> 4  -> 3  -> 2  -> 0  \n\nAdjacency list of vertex \n head -> 3  -> 1  \n\nAdjacency list of vertex \n head -> 4  -> 2  -> 1  \n\nAdjacency list of vertex \n head -> 3  -> 1  -> 0  \n\n"
    }
   ],
   "source": [
    "class Node:\n",
    "    def __init__(self,value):\n",
    "        self.vertex = value\n",
    "        self.next = None\n",
    "class Graph:\n",
    "    def __init__(self, vertices):\n",
    "        self.vertices = vertices\n",
    "        self.graph = [None]* self.vertices\n",
    "    def add_edge(self,start,end):\n",
    "        node = Node(end)\n",
    "        node.next = self.graph[start]\n",
    "        self.graph[start]=node\n",
    "\n",
    "        node = Node(start)\n",
    "        node.next = self.graph[end]\n",
    "        self.graph[end]= node\n",
    "    \n",
    "    def print_graph(self):\n",
    "        for i in range(self.vertices):\n",
    "            print(\"Adjacency list of vertex \\n head\".format(i), end=\"\") \n",
    "            temp = self.graph[i] \n",
    "            while temp: \n",
    "                print(\" -> {}\".format(temp.vertex), end=\"\") \n",
    "                temp = temp.next\n",
    "            print(\" \\n\")\n",
    "\n",
    "\n",
    "V = 5\n",
    "graph = Graph(V) \n",
    "graph.add_edge(0, 1) \n",
    "graph.add_edge(0, 4) \n",
    "graph.add_edge(1, 2) \n",
    "graph.add_edge(1, 3) \n",
    "graph.add_edge(1, 4) \n",
    "graph.add_edge(2, 3) \n",
    "graph.add_edge(3, 4) \n",
    "\n",
    "graph.print_graph() "
   ]
  }
 ],
 "metadata": {
  "language_info": {
   "codemirror_mode": {
    "name": "ipython",
    "version": 3
   },
   "file_extension": ".py",
   "mimetype": "text/x-python",
   "name": "python",
   "nbconvert_exporter": "python",
   "pygments_lexer": "ipython3",
   "version": "3.7.7-final"
  },
  "orig_nbformat": 2,
  "kernelspec": {
   "name": "python37764bitbaseconda6dbd0a79d65342aaac9adf279ef76d69",
   "display_name": "Python 3.7.7 64-bit ('base': conda)"
  }
 },
 "nbformat": 4,
 "nbformat_minor": 2
}