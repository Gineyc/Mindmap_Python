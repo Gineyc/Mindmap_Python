{
 "cells": [
  {
   "cell_type": "markdown",
   "metadata": {},
   "source": [
    "# Graph\n",
    "A tree is a type of graph, but not all graphs are trees.\n",
    "\n",
    "A tree is a connected graph without cycles."
   ]
  },
  {
   "cell_type": "markdown",
   "metadata": {},
   "source": [
    "# Adjacency List\n",
    "A common way to represent a graph, every vertex (node) stores a list of adjacent vertices. \n",
    "- In undirected graph, an edge like (a,b) would be stored twice."
   ]
  },
  {
   "cell_type": "code",
   "execution_count": 25,
   "metadata": {},
   "outputs": [
    {
     "output_type": "stream",
     "name": "stdout",
     "text": "\n head -> 4 -> 1 \n\n \n head -> 4 -> 3 -> 2 -> 0 \n\n \n head -> 3 -> 1 \n\n \n head -> 4 -> 2 -> 1 \n\n \n head -> 3 -> 1 -> 0 \n\n"
    }
   ],
   "source": [
    "class Node:\n",
    "    def __init__(self,value):\n",
    "        self.vertex = value\n",
    "        self.next = None\n",
    "class Graph:\n",
    "    def __init__(self, vertices):\n",
    "        self.vertices = vertices\n",
    "        self.graph = [None]* self.vertices\n",
    "    def add_edge(self,start,end):\n",
    "        node = Node(end)\n",
    "        node.next = self.graph[start]\n",
    "        self.graph[start]=node\n",
    "\n",
    "        node = Node(start)\n",
    "        node.next = self.graph[end]\n",
    "        self.graph[end]= node\n",
    "    \n",
    "    def print_graph(self):\n",
    "        for i in range(self.vertices):\n",
    "            print(\" \\n head\".format(i), end=\"\") \n",
    "            temp = self.graph[i] \n",
    "            while temp: \n",
    "                print(\" -> {}\".format(temp.vertex), end=\"\") \n",
    "                temp = temp.next\n",
    "            print(\" \\n\")\n",
    "\n",
    "\n",
    "V = 5\n",
    "graph = Graph(V) \n",
    "graph.add_edge(0, 1) \n",
    "graph.add_edge(0, 4) \n",
    "graph.add_edge(1, 2) \n",
    "graph.add_edge(1, 3) \n",
    "graph.add_edge(1, 4) \n",
    "graph.add_edge(2, 3) \n",
    "graph.add_edge(3, 4) \n",
    "\n",
    "graph.print_graph() "
   ]
  },
  {
   "cell_type": "markdown",
   "metadata": {},
   "source": [
    "# Adjacency Matrix"
   ]
  },
  {
   "cell_type": "code",
   "execution_count": 16,
   "metadata": {},
   "outputs": [],
   "source": [
    "class Graph_M():\n",
    "    def __init__(self,size):\n",
    "        self.adjMatrix=[]\n",
    "        for i in range(size):\n",
    "            self.adjMatrix.append([0 for i in range(size)])\n",
    "        self.size = size\n",
    "\n",
    "    def add_vertices(self,v1,v2):\n",
    "        if v1==v2:\n",
    "            raise Exception('Edge already in')\n",
    "        self.adjMatrix[v1][v2]=1\n",
    "        self.adjMatrix[v2][v1]=1\n",
    "\n",
    "    def remove_vertices(self,v1,v2):\n",
    "        if self.adjMatrix[v1][v2]==0:\n",
    "            raise Exception('No edge exists')\n",
    "        self.adjMatrix[v1][v2]=0\n",
    "        self.adjMatrix[v2][v1]=0\n",
    "    def print_matrix(self):\n",
    "        for i in self.adjMatrix:\n",
    "            print (i)\n"
   ]
  },
  {
   "cell_type": "code",
   "execution_count": 17,
   "metadata": {},
   "outputs": [
    {
     "output_type": "stream",
     "name": "stdout",
     "text": "[0, 1, 1, 0, 0]\n[1, 0, 1, 0, 0]\n[1, 1, 0, 1, 0]\n[0, 0, 1, 0, 0]\n[0, 0, 0, 0, 0]\n"
    }
   ],
   "source": [
    "g = Graph_M(5)\n",
    "g.add_vertices(0, 1)\n",
    "g.add_vertices(0, 2)\n",
    "g.add_vertices(1, 2)\n",
    "g.add_vertices(2, 0)\n",
    "g.add_vertices(2, 3)\n",
    "\n",
    "g.print_matrix()"
   ]
  }
 ],
 "metadata": {
  "language_info": {
   "codemirror_mode": {
    "name": "ipython",
    "version": 3
   },
   "file_extension": ".py",
   "mimetype": "text/x-python",
   "name": "python",
   "nbconvert_exporter": "python",
   "pygments_lexer": "ipython3",
   "version": "3.7.7-final"
  },
  "orig_nbformat": 2,
  "kernelspec": {
   "name": "python37764bitbaseconda6dbd0a79d65342aaac9adf279ef76d69",
   "display_name": "Python 3.7.7 64-bit ('base': conda)"
  }
 },
 "nbformat": 4,
 "nbformat_minor": 2
}