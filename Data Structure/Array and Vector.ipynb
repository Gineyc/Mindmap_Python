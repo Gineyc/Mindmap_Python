{
 "cells": [
  {
   "cell_type": "markdown",
   "metadata": {},
   "source": []
  },
  {
   "cell_type": "markdown",
   "metadata": {},
   "source": [
    "# Array in Python \n",
    "- List is a collection which is ordered and changeable. Allows duplicate members.\n",
    "- Tuple is a collection which is ordered and unchangeable. Allows duplicate members.\n",
    "- Set is a collection which is unordered and unindexed. No duplicate members.\n",
    "- Dictionary is a collection which is unordered, changeable and indexed. No duplicate members."
   ]
  },
  {
   "cell_type": "markdown",
   "metadata": {},
   "source": [
    "# List - Mutable Dynamic Arrays"
   ]
  },
  {
   "cell_type": "code",
   "execution_count": 113,
   "metadata": {},
   "outputs": [],
   "source": [
    "lst=[1,2,3,4,5,'a','b','c',[1,'apple','python'],{'a':1,'b':2},(1,2,3),{3,6}]"
   ]
  },
  {
   "cell_type": "code",
   "execution_count": 14,
   "metadata": {},
   "outputs": [
    {
     "output_type": "stream",
     "name": "stdout",
     "text": "The 1th item in lst is:  1\nThe 2th item in lst is:  2\nThe 3th item in lst is:  3\nThe 4th item in lst is:  4\nThe 5th item in lst is:  5\nThe 6th item in lst is:  a\nThe 7th item in lst is:  b\nThe 8th item in lst is:  c\nThe 9th item in lst is:  [1, 'apple', 'python']\nThe 10th item in lst is:  {'a': 1, 'b': 2}\nThe 11th item in lst is:  (1, 2, 3)\nThe 12th item in lst is:  {3, 6}\n"
    }
   ],
   "source": [
    "for i in range(len(lst)):\n",
    "    print('The '+ str(i+1) +'th item in lst is: ',lst[i] )"
   ]
  },
  {
   "cell_type": "markdown",
   "metadata": {},
   "source": [
    "## Slicing and Index in List"
   ]
  },
  {
   "cell_type": "code",
   "execution_count": 7,
   "metadata": {},
   "outputs": [
    {
     "output_type": "execute_result",
     "data": {
      "text/plain": "[3, 4, 5, 'a']"
     },
     "metadata": {},
     "execution_count": 7
    }
   ],
   "source": [
    "# the 3rd to 6th items in lst  include left, exclude right, 4 items in total\n",
    "lst[2:6]"
   ]
  },
  {
   "cell_type": "code",
   "execution_count": 11,
   "metadata": {},
   "outputs": [
    {
     "output_type": "execute_result",
     "data": {
      "text/plain": "[4, 5, 'a']"
     },
     "metadata": {},
     "execution_count": 11
    }
   ],
   "source": [
    "# the 9th item searched from right to left to the 6th item searched from right to left. include left, exclude right, 3 items in total.\n",
    "lst[-9:-6]\n"
   ]
  },
  {
   "cell_type": "code",
   "execution_count": 12,
   "metadata": {},
   "outputs": [
    {
     "output_type": "execute_result",
     "data": {
      "text/plain": "[1, 2, 3, 4]"
     },
     "metadata": {},
     "execution_count": 12
    }
   ],
   "source": [
    "# search the first to the 4th item in the list. 4 items in total\n",
    "lst[:4]"
   ]
  },
  {
   "cell_type": "code",
   "execution_count": 17,
   "metadata": {},
   "outputs": [
    {
     "output_type": "execute_result",
     "data": {
      "text/plain": "[[1, 'apple', 'python'], {'a': 1, 'b': 2}, (1, 2, 3), {3, 6}]"
     },
     "metadata": {},
     "execution_count": 17
    }
   ],
   "source": [
    "# search the 8th item to the last item in the list. 4 items in total\n",
    "lst[8:]"
   ]
  },
  {
   "cell_type": "markdown",
   "metadata": {},
   "source": [
    "## Common functions in Python\n",
    "- append\n",
    "- copy\n",
    "- count\n",
    "- extend\n",
    "- index\n",
    "- insert\n",
    "- pop\n",
    "- reverse\n",
    "- sort\n",
    "- remove\n",
    "- clear\n",
    "- len()"
   ]
  },
  {
   "cell_type": "code",
   "execution_count": 27,
   "metadata": {},
   "outputs": [
    {
     "output_type": "execute_result",
     "data": {
      "text/plain": "[1, 2, 'a', 'b', [1, 2, 3], ['a', 'b', 'c'], 'append_item']"
     },
     "metadata": {},
     "execution_count": 27
    }
   ],
   "source": [
    "test=[1,2,'a','b',[1,2,3],['a','b','c']]\n",
    "test.append('append_item')\n",
    "test"
   ]
  },
  {
   "cell_type": "code",
   "execution_count": 34,
   "metadata": {},
   "outputs": [
    {
     "output_type": "stream",
     "name": "stdout",
     "text": "[1, 2, 'a', 'b', ['test1', 'test2', 'test3'], ['a', 'b', 'c'], 'append_item']\n"
    }
   ],
   "source": [
    "#make a shallow copy\n",
    "t=test.copy()\n",
    "print(t)\n"
   ]
  },
  {
   "cell_type": "code",
   "execution_count": 39,
   "metadata": {},
   "outputs": [
    {
     "output_type": "stream",
     "name": "stdout",
     "text": "1 :  2\n2 :  3\n3 :  1\nb :  1\n12 :  1\na :  2\n"
    }
   ],
   "source": [
    "#count, return the number of occurrences of value\n",
    "test=[1,1,12,2,2,2,3,'a','a','b']\n",
    "for i in set(test):\n",
    "    print(i,': ',test.count(i))"
   ]
  },
  {
   "cell_type": "code",
   "execution_count": 41,
   "metadata": {},
   "outputs": [
    {
     "output_type": "execute_result",
     "data": {
      "text/plain": "0"
     },
     "metadata": {},
     "execution_count": 41
    }
   ],
   "source": [
    "# index return the first index of value\n",
    "test.index(1)"
   ]
  },
  {
   "cell_type": "code",
   "execution_count": 43,
   "metadata": {},
   "outputs": [
    {
     "output_type": "stream",
     "name": "stdout",
     "text": "[1, 2, 3, 4, 5, 6, 7, 8, 9, 10]\n"
    }
   ],
   "source": [
    "#extend: extend list by appending elements from the iterable\n",
    "t=[1,2,3,4,5]\n",
    "t1=[6,7,8,9,10]\n",
    "t.extend(t1)\n",
    "print(t)"
   ]
  },
  {
   "cell_type": "code",
   "execution_count": 46,
   "metadata": {},
   "outputs": [
    {
     "output_type": "stream",
     "name": "stdout",
     "text": "[1, 2, 3, 4, 5, 6, 7, 8, 9]\n"
    }
   ],
   "source": [
    "t=[1,2,3,4,5]\n",
    "t.extend(i for i in range(6,10))\n",
    "print(t)"
   ]
  },
  {
   "cell_type": "code",
   "execution_count": 49,
   "metadata": {},
   "outputs": [
    {
     "output_type": "execute_result",
     "data": {
      "text/plain": "[1, 2, 3, 4, 'insert', 5]"
     },
     "metadata": {},
     "execution_count": 49
    }
   ],
   "source": [
    "# insert: insert object before the index\n",
    "# e.g. insert string object \"insert\" before the 4th index\n",
    "t=[1,2,3,4,5]\n",
    "t.insert(4,'insert')\n",
    "t"
   ]
  },
  {
   "cell_type": "code",
   "execution_count": 53,
   "metadata": {},
   "outputs": [
    {
     "output_type": "stream",
     "name": "stdout",
     "text": "5\n[1, 2, 3, 4]\n"
    }
   ],
   "source": [
    "#pop: Remove and return item at index \n",
    "# index=-1 by defaut\n",
    "t=[1,2,3,4,5]\n",
    "print(t.pop())\n",
    "print(t)"
   ]
  },
  {
   "cell_type": "code",
   "execution_count": 55,
   "metadata": {},
   "outputs": [
    {
     "output_type": "execute_result",
     "data": {
      "text/plain": "[4, 3, 2, 1]"
     },
     "metadata": {},
     "execution_count": 55
    }
   ],
   "source": [
    "# reverse: reverse item in place\n",
    "t=[1,2,3,4]\n",
    "t.reverse()\n",
    "t"
   ]
  },
  {
   "cell_type": "code",
   "execution_count": 56,
   "metadata": {},
   "outputs": [
    {
     "output_type": "execute_result",
     "data": {
      "text/plain": "[1, 2, 3, 4, 5, 6, 19]"
     },
     "metadata": {},
     "execution_count": 56
    }
   ],
   "source": [
    "# sort: stable sort in place, ascending by defaut\n",
    "t=[1,4,2,5,3,6,19]\n",
    "t.sort()\n",
    "t"
   ]
  },
  {
   "cell_type": "code",
   "execution_count": 58,
   "metadata": {},
   "outputs": [
    {
     "output_type": "execute_result",
     "data": {
      "text/plain": "[19, 6, 5, 4, 3, 2, 1]"
     },
     "metadata": {},
     "execution_count": 58
    }
   ],
   "source": [
    "t=[1,4,2,5,3,6,19]\n",
    "t.sort(reverse=True)\n",
    "t"
   ]
  },
  {
   "cell_type": "code",
   "execution_count": 59,
   "metadata": {},
   "outputs": [
    {
     "output_type": "execute_result",
     "data": {
      "text/plain": "[1, 2, 4, 5, 6]"
     },
     "metadata": {},
     "execution_count": 59
    }
   ],
   "source": [
    "# remove, remove the first occurance of value\n",
    "t=[1,2,5,4,5,6]\n",
    "t.remove(5)\n",
    "t\n"
   ]
  },
  {
   "cell_type": "code",
   "execution_count": 61,
   "metadata": {},
   "outputs": [
    {
     "output_type": "stream",
     "name": "stdout",
     "text": "[1, 2, 3, 4, 5]\n[]\n"
    }
   ],
   "source": [
    "t=[1,2,3,4,5]\n",
    "print(t)\n",
    "t.clear()\n",
    "print(t)"
   ]
  },
  {
   "cell_type": "code",
   "execution_count": 68,
   "metadata": {},
   "outputs": [
    {
     "output_type": "execute_result",
     "data": {
      "text/plain": "10"
     },
     "metadata": {},
     "execution_count": 68
    }
   ],
   "source": [
    "# len(), length of a list\n",
    "len(test)"
   ]
  },
  {
   "cell_type": "markdown",
   "metadata": {},
   "source": [
    "# Tuple - Immutable Array\n",
    "index and slicing of tuple is similar to List\n",
    "\n",
    "If we want to change the tuple value, we need to convert it into a list, change the value, then convert the list back into a tuple.\n",
    "\n",
    "Common function of tuple is count and index"
   ]
  },
  {
   "cell_type": "code",
   "execution_count": 63,
   "metadata": {},
   "outputs": [
    {
     "output_type": "execute_result",
     "data": {
      "text/plain": "(1, 2, 3, 4, 5, 'a', 'b', 'c')"
     },
     "metadata": {},
     "execution_count": 63
    }
   ],
   "source": [
    "tuple1=(1,2,3,4,5,'a','b','c')\n",
    "tuple1"
   ]
  },
  {
   "cell_type": "code",
   "execution_count": 66,
   "metadata": {},
   "outputs": [
    {
     "output_type": "execute_result",
     "data": {
      "text/plain": "(2, 3, 4)"
     },
     "metadata": {},
     "execution_count": 66
    }
   ],
   "source": [
    "tuple1[1:4]"
   ]
  },
  {
   "cell_type": "markdown",
   "metadata": {},
   "source": [
    "# Set - Immutable unordered and unindexed collection\n",
    "\n",
    "- No duplicate item in a Set\n",
    "- Set doesn't offer slicing and indexing operation\n",
    "\n"
   ]
  },
  {
   "cell_type": "code",
   "execution_count": 73,
   "metadata": {},
   "outputs": [
    {
     "output_type": "execute_result",
     "data": {
      "text/plain": "{1, 2, 3, 'c', 'd', 'e'}"
     },
     "metadata": {},
     "execution_count": 73
    }
   ],
   "source": [
    "set={1,2,3,'c','d','e',1,1}\n",
    "set"
   ]
  },
  {
   "cell_type": "markdown",
   "metadata": {},
   "source": [
    "## Common function in set\n",
    "- add\n",
    "- union\n",
    "- difference\n",
    "- intersection\n",
    "- issuperset\n",
    "- issubset"
   ]
  },
  {
   "cell_type": "code",
   "execution_count": 74,
   "metadata": {},
   "outputs": [],
   "source": [
    "set1={1,2,3,4,5,6,7,8,9,10}\n",
    "set2={6,7,8,9,10,11,12,13}"
   ]
  },
  {
   "cell_type": "code",
   "execution_count": 76,
   "metadata": {},
   "outputs": [
    {
     "output_type": "stream",
     "name": "stdout",
     "text": "{1, 2, 3, 4, 5, 6, 7, 8, 9, 10, 11, 12, 13}\n{1, 2, 3, 4, 5, 6, 7, 8, 9, 10, 11, 12, 13}\n"
    }
   ],
   "source": [
    "print(set1.union(set2))\n",
    "print(set1|set2)"
   ]
  },
  {
   "cell_type": "code",
   "execution_count": 79,
   "metadata": {},
   "outputs": [
    {
     "output_type": "stream",
     "name": "stdout",
     "text": "{1, 2, 3, 4, 5}\n{11, 12, 13}\n"
    }
   ],
   "source": [
    "print(set1.difference(set2))\n",
    "print(set2.difference(set1))"
   ]
  },
  {
   "cell_type": "code",
   "execution_count": 80,
   "metadata": {},
   "outputs": [
    {
     "output_type": "stream",
     "name": "stdout",
     "text": "{6, 7, 8, 9, 10}\n{6, 7, 8, 9, 10}\n"
    }
   ],
   "source": [
    "print(set1.intersection(set2))\n",
    "print(set1 & set2)"
   ]
  },
  {
   "cell_type": "code",
   "execution_count": 83,
   "metadata": {},
   "outputs": [
    {
     "output_type": "stream",
     "name": "stdout",
     "text": "False\nTrue\nTrue\n"
    }
   ],
   "source": [
    "set3={1,2,3}\n",
    "print(set3.issuperset(set1))\n",
    "print(set1.issuperset(set3))\n",
    "print(set3.issubset(set1))"
   ]
  },
  {
   "cell_type": "markdown",
   "metadata": {},
   "source": [
    "# Dict: Mutable. unordered, indexed collection"
   ]
  },
  {
   "cell_type": "code",
   "execution_count": 96,
   "metadata": {},
   "outputs": [
    {
     "output_type": "stream",
     "name": "stdout",
     "text": "{'e1': 'apple', 'e2': 'car', 'e3': 'book'}\n{'e1': 'apple', 'e2': 'car', 'e3': 'book'}\n"
    }
   ],
   "source": [
    "dict1={'e1':'apple','e2':'car','e3':'book'}\n",
    "dict2= dict(e1='apple',e2='car',e3='book')\n",
    "print(dict1)\n",
    "print(dict2)"
   ]
  },
  {
   "cell_type": "markdown",
   "metadata": {},
   "source": [
    "## Common functions of dict\n",
    "- items\n",
    "- values\n",
    "- keys\n",
    "- get\n",
    "- pop"
   ]
  },
  {
   "cell_type": "code",
   "execution_count": 90,
   "metadata": {},
   "outputs": [
    {
     "output_type": "stream",
     "name": "stdout",
     "text": "('e1', 'apple')\n('e2', 'car')\n('e3', 'book')\n"
    }
   ],
   "source": [
    "for i in dict1.items():\n",
    "    print(i)"
   ]
  },
  {
   "cell_type": "code",
   "execution_count": 91,
   "metadata": {},
   "outputs": [
    {
     "output_type": "execute_result",
     "data": {
      "text/plain": "dict_values(['apple', 'car', 'book'])"
     },
     "metadata": {},
     "execution_count": 91
    }
   ],
   "source": [
    "dict2.values()"
   ]
  },
  {
   "cell_type": "code",
   "execution_count": 92,
   "metadata": {},
   "outputs": [
    {
     "output_type": "execute_result",
     "data": {
      "text/plain": "dict_keys(['e1', 'e2', 'e3'])"
     },
     "metadata": {},
     "execution_count": 92
    }
   ],
   "source": [
    "dict1.keys()"
   ]
  },
  {
   "cell_type": "code",
   "execution_count": 94,
   "metadata": {},
   "outputs": [
    {
     "output_type": "execute_result",
     "data": {
      "text/plain": "'car'"
     },
     "metadata": {},
     "execution_count": 94
    }
   ],
   "source": [
    "# get the value of given key\n",
    "dict2.get('e2')"
   ]
  },
  {
   "cell_type": "code",
   "execution_count": 97,
   "metadata": {},
   "outputs": [
    {
     "output_type": "stream",
     "name": "stdout",
     "text": "apple\n{'e2': 'car', 'e3': 'book'}\n"
    }
   ],
   "source": [
    "print(dict2.pop('e1'))\n",
    "print(dict2)"
   ]
  }
 ],
 "metadata": {
  "language_info": {
   "codemirror_mode": {
    "name": "ipython",
    "version": 3
   },
   "file_extension": ".py",
   "mimetype": "text/x-python",
   "name": "python",
   "nbconvert_exporter": "python",
   "pygments_lexer": "ipython3",
   "version": "3.7.7-final"
  },
  "orig_nbformat": 2,
  "kernelspec": {
   "name": "python37764bitbaseconda6dbd0a79d65342aaac9adf279ef76d69",
   "display_name": "Python 3.7.7 64-bit ('base': conda)"
  }
 },
 "nbformat": 4,
 "nbformat_minor": 2
}