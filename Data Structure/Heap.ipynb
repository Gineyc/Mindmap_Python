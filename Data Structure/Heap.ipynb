{
 "cells": [
  {
   "cell_type": "markdown",
   "metadata": {},
   "source": [
    "# Heap\n",
    "\n",
    "- MinHeap is a complete binary tree, a special tree structure in which each parent node is less than or equal to its child node.\n",
    "- MaxHeap, each parent node is greater than or equal to ist child node.\n",
    "- Heapify: a process of converting a binary tree into a Heap data structure. A binary tree being a tree data structure where each node has at most two child nodes.\n",
    "In min-heap:\n",
    "basic function\n",
    "- insert\n",
    "- extract_min"
   ]
  },
  {
   "cell_type": "markdown",
   "metadata": {},
   "source": [
    "# Implementation of Min-Heap using heapq"
   ]
  },
  {
   "cell_type": "code",
   "execution_count": 119,
   "metadata": {},
   "outputs": [
    {
     "output_type": "stream",
     "name": "stdout",
     "text": "[4, 50, 7, 55, 90, 87]\n"
    }
   ],
   "source": [
    "import heapq\n",
    "# heapify\n",
    "lst=[50,4,7,55,90,87]\n",
    "heapq.heapify(lst)\n",
    "print (lst) "
   ]
  },
  {
   "cell_type": "code",
   "execution_count": 121,
   "metadata": {},
   "outputs": [
    {
     "output_type": "stream",
     "name": "stdout",
     "text": "[2, 2, 4, 50, 90, 87, 7, 55]\n"
    }
   ],
   "source": [
    "# insert\n",
    "heapq.heappush(lst,2)\n",
    "print(lst)"
   ]
  },
  {
   "cell_type": "code",
   "execution_count": 123,
   "metadata": {},
   "outputs": [
    {
     "output_type": "execute_result",
     "data": {
      "text/plain": "2"
     },
     "metadata": {},
     "execution_count": 123
    }
   ],
   "source": [
    "# extract_min\n",
    "heapq.heappop(lst)"
   ]
  }
 ],
 "metadata": {
  "language_info": {
   "codemirror_mode": {
    "name": "ipython",
    "version": 3
   },
   "file_extension": ".py",
   "mimetype": "text/x-python",
   "name": "python",
   "nbconvert_exporter": "python",
   "pygments_lexer": "ipython3",
   "version": "3.7.7-final"
  },
  "orig_nbformat": 2,
  "kernelspec": {
   "name": "python37764bitbaseconda6dbd0a79d65342aaac9adf279ef76d69",
   "display_name": "Python 3.7.7 64-bit ('base': conda)"
  }
 },
 "nbformat": 4,
 "nbformat_minor": 2
}