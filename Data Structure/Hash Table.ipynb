{
 "cells": [
  {
   "cell_type": "markdown",
   "metadata": {},
   "source": [
    "# Hash Table\n",
    "In python, dictionary data types represent the implementation hash tables. \n",
    "- The keys of dictionary are hashable (unique value supplied to the hash function)\n",
    "- The order of data elements in a dictionary is not fixed\n",
    "- Python hash table is a contiguous block of memory, which achieve O(1) look up by index.\n",
    "- A key maps to only one entry object.\n",
    "- When a new dict is initialized, it starts with 8 slots \n",
    "- Each entry in the hash table is with three values: hash_value, key and value.\n",
    "\n",
    "Hash tables must allow for hash collisions \n",
    "(Even if two keys have same hash value, the implementation of the table must have a strategy to insert and retrieve the key and value pairs unambiguously)\n",
    "\n",
    "Hash table maps a hash of an object to a key. Keys are indexed and point to a list of value which on the backend. It's a list of values in order to handle collision. When a collision occurs, that two different objects return the same hash value, the value for that conflicted key is inserted into the value list. \n",
    "- If there is no collision, then operation will be O(1). \n",
    "- If there are collisions, the cost is O(n), THE n is the number of values in the bucket for the conflicted key.(If the bucket values are sotred in binary search tree, it would be O(logn))\n",
    "\n"
   ]
  },
  {
   "cell_type": "markdown",
   "metadata": {},
   "source": [
    "## Create a hashtable using dictionary data type and access the dictionary elements"
   ]
  },
  {
   "cell_type": "code",
   "execution_count": 38,
   "metadata": {},
   "outputs": [
    {
     "output_type": "stream",
     "name": "stdout",
     "text": "{'key1': 'value1', 'key2': 'value2', 'key3': 'value3'}\nKeys of ht:  dict_keys(['key1', 'key2', 'key3'])\nValues of ht:  dict_values(['value1', 'value2', 'value3'])\nValue of 'key1':  value1\n"
    }
   ],
   "source": [
    "\n",
    "ht={\"key1\":\"value1\",\"key2\":\"value2\",\"key3\":\"value3\"}\n",
    "print(ht)\n",
    "print(\"Keys of ht: \", ht.keys())\n",
    "print(\"Values of ht: \", ht.values())\n",
    "print(\"Value of 'key1': \", ht.get('key1'))"
   ]
  },
  {
   "cell_type": "markdown",
   "metadata": {},
   "source": [
    "## Updating Dictionary\n",
    "- update values\n",
    "- adding a new entry of a key-value pair"
   ]
  },
  {
   "cell_type": "code",
   "execution_count": 48,
   "metadata": {},
   "outputs": [
    {
     "output_type": "stream",
     "name": "stdout",
     "text": "updated value of 'key1':\n ['value1', 'a', 'b', 'c']\n\nupdated ht:\n {'key2': 'value2', 'key3': 'value3', 'key4': 'value4', 'key1': ['value1', 'a', 'b', 'c']}\n"
    }
   ],
   "source": [
    "ht['key1']=['value1','a','b','c']\n",
    "print(\"updated value of 'key1':\\n\",ht['key1'])\n",
    "\n",
    "ht['key4']='value4'\n",
    "print(\"\\nupdated ht:\\n\",ht)"
   ]
  },
  {
   "cell_type": "markdown",
   "metadata": {},
   "source": [
    "## Delete Dictionary Elements"
   ]
  },
  {
   "cell_type": "code",
   "execution_count": 49,
   "metadata": {},
   "outputs": [
    {
     "output_type": "stream",
     "name": "stdout",
     "text": "{'key2': 'value2', 'key3': 'value3', 'key4': 'value4'}\n{}\n"
    }
   ],
   "source": [
    "# delete specific key-value pair\n",
    "del ht['key1']\n",
    "print(ht)\n",
    "\n",
    "# delete all elements in dictionary\n",
    "ht.clear()\n",
    "print(ht)"
   ]
  },
  {
   "cell_type": "markdown",
   "metadata": {},
   "source": [
    "# Hash Table and Hash Map\n",
    "\n",
    "Hash Table: \n",
    "- Synchornized\n",
    "- Fast\n",
    "- Allows one null key and more than one null values\n",
    "\n",
    "Hashmap:\n",
    "- Non-synchornized\n",
    "- Slow\n",
    "- Does not allows null keys or values"
   ]
  },
  {
   "cell_type": "markdown",
   "metadata": {},
   "source": [
    "# Implementation of Hash Table"
   ]
  },
  {
   "cell_type": "code",
   "execution_count": 140,
   "metadata": {},
   "outputs": [],
   "source": [
    "class Node():\n",
    "    def __init__(self, key, value):\n",
    "        self.key=key\n",
    "        self.value=value\n",
    "        self.next = None\n",
    "\n",
    "class HashTable():\n",
    "    def __init__(self, capacity=30):\n",
    "        self.capacity = capacity\n",
    "        self.size=0\n",
    "        self.buckets=[None]* self.capacity\n",
    "    def __repr__(self):\n",
    "        result=[]\n",
    "        if self.buckets.count(None)==len(self.buckets):\n",
    "            return \"Empty Hash Table\"\n",
    "        for i in self.buckets:\n",
    "            if i is not None:\n",
    "                while i is not None:\n",
    "                    \n",
    "                    result.append([self.hash(i.key),i.key,i.value])\n",
    "                    i = i.next\n",
    "        return \",\".join(str(j) for j in result)\n",
    "            \n",
    "\n",
    "    def hash(self, key):\n",
    "        hashsum=0\n",
    "        for id, key in enumerate(key):\n",
    "            hashsum += (id + len(key)) ** ord(key)\n",
    "            hashsum %=self.capacity\n",
    "        return hashsum\n",
    "    def insert(self,key,value):\n",
    "        self.size+=1\n",
    "        index=self.hash(key)\n",
    "        node = self.buckets[index]\n",
    "        if node is None:\n",
    "            self.buckets[index]=Node(key,value)\n",
    "            return\n",
    "        temp = node\n",
    "        while node is not None:\n",
    "            temp=node\n",
    "            node=node.next\n",
    "        temp.next = Node(key,value)\n",
    "    def find(self, key):\n",
    "        index=self.hash(key)\n",
    "        node=self.buckets[index]\n",
    "        while node is not None and node.key !=key:\n",
    "            node = node.next\n",
    "        if node is None:\n",
    "            return None\n",
    "        else:\n",
    "            return node.value\n",
    "    def remove(self,key):\n",
    "        index=self.hash(key)\n",
    "        node=self.buckets[index]\n",
    "        temp=None\n",
    "        while node is not None and node.key!=key:\n",
    "            temp=node\n",
    "            node=node.next\n",
    "        if node is None:\n",
    "            return 'No Key found'\n",
    "        else:\n",
    "            self.size-=1\n",
    "            value=node.value\n",
    "            if temp is None:\n",
    "                self.buckets[index] = node.next\n",
    "            else:\n",
    "                temp.next=temp.next.next\n",
    "            return value\n",
    "   "
   ]
  },
  {
   "cell_type": "code",
   "execution_count": 141,
   "metadata": {},
   "outputs": [
    {
     "output_type": "stream",
     "name": "stdout",
     "text": "Empty Hash Table\n"
    }
   ],
   "source": [
    "hashtable = HashTable()\n",
    "print(hashtable)"
   ]
  },
  {
   "cell_type": "code",
   "execution_count": 142,
   "metadata": {},
   "outputs": [
    {
     "output_type": "stream",
     "name": "stdout",
     "text": "\n [10, 'key1', 'value1']\n\n [10, 'key1', 'value1'],[22, 'key2', ['value2.1', 'value2.2']]\n\nhashtable  [10, 'key1', 'value1'],[10, 'key3', 'value3'],[22, 'key2', ['value2.1', 'value2.2']]\n"
    }
   ],
   "source": [
    "hashtable.insert('key1','value1')\n",
    "print(\"\\n\",hashtable)\n",
    "hashtable.insert(\"key2\",['value2.1','value2.2'])\n",
    "print(\"\\n\",hashtable)\n",
    "hashtable.insert(\"key3\",\"value3\")\n",
    "print(\"\\nhashtable \",hashtable)"
   ]
  },
  {
   "cell_type": "code",
   "execution_count": 143,
   "metadata": {},
   "outputs": [
    {
     "output_type": "execute_result",
     "data": {
      "text/plain": "['value2.1', 'value2.2']"
     },
     "metadata": {},
     "execution_count": 143
    }
   ],
   "source": [
    "hashtable.find('key2')"
   ]
  },
  {
   "cell_type": "code",
   "execution_count": 144,
   "metadata": {},
   "outputs": [
    {
     "output_type": "stream",
     "name": "stdout",
     "text": "['value2.1', 'value2.2']\n[10, 'key1', 'value1'],[10, 'key3', 'value3']\n"
    }
   ],
   "source": [
    "print(hashtable.remove('key2'))\n",
    "print(hashtable)"
   ]
  },
  {
   "cell_type": "code",
   "execution_count": 101,
   "metadata": {},
   "outputs": [
    {
     "output_type": "execute_result",
     "data": {
      "text/plain": "4"
     },
     "metadata": {},
     "execution_count": 101
    }
   ],
   "source": [
    "a=[None,None,1]\n",
    "a.count(None)==len(a) \n",
    "\n",
    "a='error'\n",
    "a=4\n",
    "a"
   ]
  }
 ],
 "metadata": {
  "language_info": {
   "codemirror_mode": {
    "name": "ipython",
    "version": 3
   },
   "file_extension": ".py",
   "mimetype": "text/x-python",
   "name": "python",
   "nbconvert_exporter": "python",
   "pygments_lexer": "ipython3",
   "version": "3.7.7-final"
  },
  "orig_nbformat": 2,
  "kernelspec": {
   "name": "python37764bitbaseconda6dbd0a79d65342aaac9adf279ef76d69",
   "display_name": "Python 3.7.7 64-bit ('base': conda)"
  }
 },
 "nbformat": 4,
 "nbformat_minor": 2
}