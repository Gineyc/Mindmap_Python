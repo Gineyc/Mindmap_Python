{
 "cells": [
  {
   "cell_type": "markdown",
   "metadata": {},
   "source": [
    "\n",
    "# Queue\n",
    "- First in first out (FIFO)\n",
    "\n",
    "Implementing: add(item), remove(), peek(), isEmpty()"
   ]
  },
  {
   "cell_type": "markdown",
   "metadata": {},
   "source": [
    "## Implmentation of Queue, using singly linked list"
   ]
  },
  {
   "cell_type": "code",
   "execution_count": 53,
   "metadata": {},
   "outputs": [],
   "source": [
    "class Node ():\n",
    "    def __init__(self,data, next_node = None):\n",
    "        self.data = data\n",
    "        self.next = next_node\n",
    "    def __repr__(self):\n",
    "        return str(self.data)\n",
    "    def print_data(self):\n",
    "        return self.data\n",
    "    def get_next(self):\n",
    "        return self.next\n",
    "    def set_next(self,new_node):\n",
    "        self.next=new_node\n",
    "\n",
    "class Queue():\n",
    "    def __init__(self):\n",
    "        self.head = None\n",
    "        self.rear = None\n",
    "\n",
    "    def __repr__(self):\n",
    "        node = self.head\n",
    "        nodes=[]\n",
    "        while node is not None:\n",
    "            nodes.append(node.data)\n",
    "            node=node.next\n",
    "        nodes.append('None')\n",
    "        return ' -> '.join(str(i) for i in nodes) \n",
    "    \n",
    "    def is_Empty(self):\n",
    "        return self.head==None\n",
    "\n",
    "    def add(self,new_node):\n",
    "        if self.rear == None:\n",
    "            self.head = new_node\n",
    "            self.rear = new_node\n",
    "            return\n",
    "        else:\n",
    "            self.rear.next = new_node\n",
    "            self.rear= new_node\n",
    "    def peek(self):\n",
    "        if self.head == None:\n",
    "            raise Exception(\"The queue is empty\")\n",
    "        else:\n",
    "            return self.head.print_data()\n",
    "    def remove(self):\n",
    "        if self.head==None:\n",
    "            raise Exception(\"The queue is empty\")\n",
    "        else:\n",
    "            node=self.head\n",
    "            self.head=node.next\n",
    "            return node.print_data()\n",
    "        \n",
    "\n",
    "\n"
   ]
  },
  {
   "cell_type": "code",
   "execution_count": 60,
   "metadata": {},
   "outputs": [
    {
     "output_type": "execute_result",
     "data": {
      "text/plain": "None"
     },
     "metadata": {},
     "execution_count": 60
    }
   ],
   "source": [
    "    \n",
    "node1=Node('a')\n",
    "q1=Queue()\n",
    "q1"
   ]
  },
  {
   "cell_type": "code",
   "execution_count": 61,
   "metadata": {},
   "outputs": [
    {
     "output_type": "execute_result",
     "data": {
      "text/plain": "a -> apple -> None"
     },
     "metadata": {},
     "execution_count": 61
    }
   ],
   "source": [
    "q1.add(node1)\n",
    "q1.add(Node(\"apple\"))\n",
    "q1"
   ]
  },
  {
   "cell_type": "code",
   "execution_count": 62,
   "metadata": {},
   "outputs": [
    {
     "output_type": "stream",
     "name": "stdout",
     "text": "a\na -> apple -> None\n"
    }
   ],
   "source": [
    "print(q1.peek())\n",
    "print(q1)"
   ]
  },
  {
   "cell_type": "code",
   "execution_count": 63,
   "metadata": {},
   "outputs": [
    {
     "output_type": "stream",
     "name": "stdout",
     "text": "a\napple -> None\n"
    }
   ],
   "source": [
    "print(q1.remove())\n",
    "print(q1)"
   ]
  },
  {
   "cell_type": "markdown",
   "metadata": {},
   "source": [
    "## Implementation of Queue, using collections.deque\n",
    "\n",
    "- append(): add an element to the right side of the deque\n",
    "- appendleft(): add an elment to the left side of the deque\n",
    "- clear(): remove all elements from the deque\n",
    "- count(): return number of occurrences value\n",
    "- extend(): similar to extend function in list\n",
    "- pop(): remove and return the rightmost element\n",
    "- popleft(): remove and return the leftmose element\n",
    "- rotate(): (default n=1)rotate the deque n steps to the right if n>0, else to the left\n",
    "\n",
    "\n",
    "add(item)-> append()\n",
    "remove()-> popleft()\n"
   ]
  },
  {
   "cell_type": "code",
   "execution_count": 1,
   "metadata": {},
   "outputs": [
    {
     "output_type": "stream",
     "name": "stdout",
     "text": "deque(['a', 'b', 'c'])\na\ndeque(['b', 'c'])\ndeque(['c', 'b'])\ndeque(['b', 'c'])\n"
    }
   ],
   "source": [
    "from collections import deque\n",
    "q=deque()\n",
    "q.append('a')\n",
    "q.append('b')\n",
    "q.append('c')\n",
    "print(q)\n",
    "print(q.popleft())\n",
    "print(q)\n",
    "q.reverse()\n",
    "print(q)\n",
    "q.rotate(-1)\n",
    "print(q)\n"
   ]
  },
  {
   "cell_type": "markdown",
   "metadata": {},
   "source": [
    "## Implementation of Queue, using List"
   ]
  },
  {
   "cell_type": "code",
   "execution_count": 115,
   "metadata": {},
   "outputs": [],
   "source": [
    "    def __init__(self):\n",
    "        self=[]\n",
    "    \n",
    "    def add(self,data):\n",
    "        self.append(data)\n",
    "    def peek(self):\n",
    "        return self[0]\n",
    "    def remove(self):\n",
    "        return self.pop(0)\n",
    "    def is_Empty(self):\n",
    "        return len(self)==0"
   ]
  },
  {
   "cell_type": "code",
   "execution_count": 116,
   "metadata": {},
   "outputs": [
    {
     "output_type": "stream",
     "name": "stdout",
     "text": "Is q1 empty? True\n[5, 1, 'apple']\nIs q1 empty? False\n5\n[5, 1, 'apple']\n5\n[1, 'apple']\n"
    }
   ],
   "source": [
    "q1=Queue_list()\n",
    "print(\"Is q1 empty?\",q1.is_Empty())\n",
    "q1.add(5)\n",
    "q1.add(1)\n",
    "q1.add('apple')\n",
    "print(q1)\n",
    "print(\"Is q1 empty?\",q1.is_Empty())\n",
    "print(q1.peek())\n",
    "print(q1)\n",
    "print(q1.remove())\n",
    "print(q1)"
   ]
  }
 ],
 "metadata": {
  "language_info": {
   "codemirror_mode": {
    "name": "ipython",
    "version": 3
   },
   "file_extension": ".py",
   "mimetype": "text/x-python",
   "name": "python",
   "nbconvert_exporter": "python",
   "pygments_lexer": "ipython3",
   "version": "3.7.7-final"
  },
  "orig_nbformat": 2,
  "kernelspec": {
   "name": "python37764bitbaseconda6dbd0a79d65342aaac9adf279ef76d69",
   "display_name": "Python 3.7.7 64-bit ('base': conda)"
  }
 },
 "nbformat": 4,
 "nbformat_minor": 2
}