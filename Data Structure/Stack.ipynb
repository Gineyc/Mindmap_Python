{
 "cells": [
  {
   "cell_type": "markdown",
   "metadata": {},
   "source": [
    "# Stack \n",
    "- First in last out (FILO)\n",
    "\n",
    "Implementing: pop(), push(item), peek(), isEmpty()"
   ]
  },
  {
   "cell_type": "markdown",
   "metadata": {},
   "source": [
    "## Implementation of Stack, using Linked List"
   ]
  },
  {
   "cell_type": "code",
   "execution_count": 4,
   "metadata": {},
   "outputs": [],
   "source": [
    "class Node ():\n",
    "    def __init__(self,data, next_node = None):\n",
    "        self.data = data\n",
    "        self.next = next_node\n",
    "    def __repr__(self):\n",
    "        return str(self.data)\n",
    "    def print_data(self):\n",
    "        return self.data\n",
    "    def get_next(self):\n",
    "        return self.next\n",
    "    def set_next(self,new_node):\n",
    "        self.next=new_node\n",
    "\n",
    "class Stack():\n",
    "    def __init__(self):\n",
    "        self.head = None\n",
    "\n",
    "    def __repr__(self):\n",
    "        node = self.head\n",
    "        nodes=[]\n",
    "        while node is not None:\n",
    "            nodes.append(node.data)\n",
    "            node=node.next\n",
    "        nodes.append('None')\n",
    "        return ' -> '.join(str(i) for i in nodes) \n",
    "    \n",
    "    def is_Empty(self):\n",
    "        return self.head==None\n",
    "\n",
    "    def push(self,new_node):\n",
    "        if self.head == None:\n",
    "            self.head = new_node\n",
    "            return\n",
    "        else:\n",
    "            new_node.next=self.head\n",
    "            self.head=new_node\n",
    "    def peek(self):\n",
    "        if self.head == None:\n",
    "            raise Exception(\"The queue is empty\")\n",
    "        else:\n",
    "            return self.head.print_data()\n",
    "    def pop(self):\n",
    "        if self.head==None:\n",
    "            raise Exception(\"The queue is empty\")\n",
    "        else:\n",
    "            node=self.head\n",
    "            self.head=node.next\n",
    "            return node.print_data()\n",
    "        "
   ]
  },
  {
   "cell_type": "code",
   "execution_count": 9,
   "metadata": {},
   "outputs": [
    {
     "output_type": "stream",
     "name": "stdout",
     "text": "None\nTrue\nc -> b -> a -> None\nc\nb -> a -> None\nb\nFalse\n"
    }
   ],
   "source": [
    "s=Stack()\n",
    "print(s)\n",
    "print(s.is_Empty())\n",
    "s.push(Node('a'))\n",
    "s.push(Node('b'))\n",
    "s.push(Node('c'))\n",
    "print(s)\n",
    "print(s.pop())\n",
    "print(s)\n",
    "print(s.peek())\n",
    "print(s.is_Empty())"
   ]
  },
  {
   "cell_type": "markdown",
   "metadata": {},
   "source": [
    "## Implementation of Stack, using deque\n",
    "pop() -> pop()\n",
    "\n",
    "push() ->append()"
   ]
  },
  {
   "cell_type": "code",
   "execution_count": 15,
   "metadata": {},
   "outputs": [
    {
     "output_type": "stream",
     "name": "stdout",
     "text": "deque([])\ndeque(['a', 'b', 'c'])\nc\ndeque(['a', 'b'])\n"
    }
   ],
   "source": [
    "from collections import deque\n",
    "s=deque()\n",
    "print(s)\n",
    "s.append('a')\n",
    "s.append('b')\n",
    "s.append('c')\n",
    "print(s)\n",
    "print(s.pop())\n",
    "print(s)\n"
   ]
  },
  {
   "cell_type": "markdown",
   "metadata": {},
   "source": [
    "## Implementation of Stack, using List"
   ]
  },
  {
   "cell_type": "code",
   "execution_count": 27,
   "metadata": {},
   "outputs": [],
   "source": [
    "class Stack_List(list):\n",
    "    def __init__(self):\n",
    "        self=[]\n",
    "    def pop_(self):\n",
    "        return self.pop(-1)\n",
    "    def push(self,data):\n",
    "        return self.append(data)\n",
    "    def is_Empty(self):\n",
    "        return len(self)==0\n",
    "    def peek(self):\n",
    "        return self[-1]\n",
    "    "
   ]
  },
  {
   "cell_type": "code",
   "execution_count": 28,
   "metadata": {},
   "outputs": [
    {
     "output_type": "stream",
     "name": "stdout",
     "text": "[]\nTrue\n[a, b, c]\nc\n[a, b]\nb\nFalse\n"
    }
   ],
   "source": [
    "s1=Stack_List()\n",
    "print(s1)\n",
    "print(s1.is_Empty())\n",
    "s1.push(Node('a'))\n",
    "s1.push(Node('b'))\n",
    "s1.push(Node('c'))\n",
    "print(s1)\n",
    "print(s1.pop_())\n",
    "print(s1)\n",
    "print(s1.peek())\n",
    "print(s1.is_Empty())"
   ]
  }
 ],
 "metadata": {
  "language_info": {
   "codemirror_mode": {
    "name": "ipython",
    "version": 3
   },
   "file_extension": ".py",
   "mimetype": "text/x-python",
   "name": "python",
   "nbconvert_exporter": "python",
   "pygments_lexer": "ipython3",
   "version": "3.7.7-final"
  },
  "orig_nbformat": 2,
  "kernelspec": {
   "name": "python37764bitbaseconda6dbd0a79d65342aaac9adf279ef76d69",
   "display_name": "Python 3.7.7 64-bit ('base': conda)"
  }
 },
 "nbformat": 4,
 "nbformat_minor": 2
}