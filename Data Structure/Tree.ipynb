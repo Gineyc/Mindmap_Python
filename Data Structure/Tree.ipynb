{
 "cells": [
  {
   "cell_type": "markdown",
   "metadata": {},
   "source": [
    "# Tree\n",
    "- Tree is a data structure composed of nodes.\n",
    "- Each tree has a root node.\n",
    "- The root nodes has zero of more child nodes.\n",
    "- Each child node has zero or more child nodes.\n",
    "\n",
    "## Binary Tree\n",
    "A binary tree is a tree in which each node has up to two children. \n",
    "- Not all trees are binary trees.\n",
    "- A node is called a \"leaf\" node if it has no children.\n",
    "\n",
    "## Binary Search Tree\n",
    "A binary search tree is a binry tree in which every node fits a specific ordring property: all lef descendnts <= n < all right descendents, node n must be true.\n",
    "- Under some definitions, the binary search tree cannot have duplicate values. In others, the duplicate calues will be on the right or can be on either side.\n",
    "\n",
    "## Balanced Tree\n",
    "A balanced tree is a tree where no leaf is much farther away from the root than any other leaf.\n",
    "- It should ensure O(logn) times for insert and find.\n",
    "\n",
    "## Complete Binary Tree\n",
    "A Complete binary tree is a binary tree in which every level of the tree is fully filled, except for perhaps the last level (In the fill of last level, it is filled left to right).\n",
    "\n",
    "## Full Binary Tree\n",
    "A full binary tree is a binary tree in which every node has either zero or two children. That is, no nodes have only one child.\n",
    "\n",
    "## Perfect Binary Tree\n",
    "A perfect binary tree is on that is both full and complete. All leaf nodes will be at the same level, and this level has maximum number of nodes.\n",
    "- A perfect tree must have exactly 2^k -1 nodes (where k is the number of levels.)\n",
    "\n",
    "## In-order traversal (left, root, right)\n",
    "visit the left branch, then the current node, and finally the right branch\n",
    "\n",
    "## pre-order traversal (root, left, right)\n",
    "visit the current node, before its left child and right child.\n",
    "\n",
    "## post-order traversal (left, right, root)\n",
    "visit the left child, then right child, and finally the root"
   ]
  },
  {
   "cell_type": "markdown",
   "metadata": {},
   "source": [
    "# Implementation of a basic binary tree"
   ]
  },
  {
   "cell_type": "code",
   "execution_count": 103,
   "metadata": {},
   "outputs": [],
   "source": [
    "\n",
    "class Node:\n",
    "    def __init__(self,data):\n",
    "        self.data=data\n",
    "        self.left = None\n",
    "        self.right = None\n",
    "    def __repr__(self):\n",
    "        from pprint import pformat\n",
    "        if self.left is None and self.right is None:\n",
    "            return str(self.data)\n",
    "        return pformat({\"%s\" % (self.data): (self.left, self.right)}, indent=1)\n",
    "def in_order_traversal(node):\n",
    "    if node is None:\n",
    "        return lst\n",
    "    if node.left is not None:\n",
    "        in_order_traversal(node.left)\n",
    "    print(node.data)\n",
    "    if node.right is not None:\n",
    "        in_order_traversal(node.right)\n",
    "    \n",
    "def pre_order_traversal(node):\n",
    "    if node is not None:\n",
    "        print (node.data)\n",
    "    if node.left is not None:\n",
    "        pre_order_traversal(node.left)\n",
    "    if node.right is not None:\n",
    "        pre_order_traversal(node.right)\n",
    "\n",
    "def post_order_traversal(node):\n",
    "    if node.left is not None:\n",
    "        post_order_traversal(node.left)\n",
    "    if node.right is not None:\n",
    "        post_order_traversal(node.right)\n",
    "    print (node.data)\n",
    "    if node is not None:\n",
    "        return\n",
    "\n",
    "def depth_of_tree(node):\n",
    "    if node is None:\n",
    "        return 0\n",
    "    else:\n",
    "        depth_tree_l = depth_of_tree(node.left)\n",
    "        depth_tree_r = depth_of_tree(node.right)\n",
    "        if depth_tree_l>depth_tree_r:\n",
    "            return 1 + depth_tree_l\n",
    "        else:\n",
    "            return 1 + depth_tree_r\n",
    "def is_balanced(node):\n",
    "    if node is None:\n",
    "        return True\n",
    "    return is_balanced(node.left) and is_balanced(node.right) and abs(depth_of_tree(node.left)-depth_of_tree(node.right))<=1\n",
    "\n",
    "def is_full(node):\n",
    "    if node is None:\n",
    "        return True\n",
    "    if (node.left is None) and (node.right is None):\n",
    "        return True\n",
    "    if (node.left is not None) and (node.right is not None):\n",
    "        return is_full(node.left) and is_full(node.right)\n",
    "    else:\n",
    "        return False\n",
    "def is_complete(node):\n",
    "    if node is None:\n",
    "        return True\n",
    "    return is_complete(node.left) and is_complete(node.right) and 0<=(depth_of_tree(node.left)-depth_of_tree(node.right))<=1\n",
    "\n",
    "def is_bst(node):\n",
    "    if node is None:\n",
    "        return True\n",
    "    if (node.left is not None) and (node.left.data >= node.data):\n",
    "        return False\n",
    "    if (node.right is not None) and (node.right.data <= node.data):\n",
    "        return False\n",
    "    return is_bst(node.left) and is_bst(node.right)\n",
    "\n",
    "def is_perfect(node):\n",
    "    return is_full(node) and is_complete(node) and (depth_of_tree(node.left)==depth_of_tree(node.right))\n"
   ]
  },
  {
   "cell_type": "code",
   "execution_count": 86,
   "metadata": {},
   "outputs": [
    {
     "output_type": "stream",
     "name": "stdout",
     "text": "{'1': ({'2': (4, 5)}, 3)}\nin-order-traversal\n4\n2\n5\n1\n3\n"
    }
   ],
   "source": [
    "tree = Node(1)\n",
    "tree.left=Node(2)\n",
    "tree.right= Node(3)\n",
    "tree.left.left = Node(4)\n",
    "tree.left.right = Node(5)\n",
    "print(tree)\n",
    "print(\"in-order-traversal\")\n",
    "in_order_traversal(tree)\n"
   ]
  },
  {
   "cell_type": "code",
   "execution_count": 52,
   "metadata": {},
   "outputs": [
    {
     "output_type": "stream",
     "name": "stdout",
     "text": "pre-order-traversal\n1\n2\n4\n5\n3\n"
    }
   ],
   "source": [
    "print(\"pre-order-traversal\")\n",
    "pre_order_traversal(tree)"
   ]
  },
  {
   "cell_type": "code",
   "execution_count": 53,
   "metadata": {},
   "outputs": [
    {
     "output_type": "stream",
     "name": "stdout",
     "text": "post-order-traversal\n4\n5\n2\n3\n1\n"
    }
   ],
   "source": [
    "print(\"post-order-traversal\")\n",
    "post_order_traversal(tree)"
   ]
  },
  {
   "cell_type": "code",
   "execution_count": 54,
   "metadata": {},
   "outputs": [
    {
     "output_type": "stream",
     "name": "stdout",
     "text": "depth-of-tree\n3\n"
    }
   ],
   "source": [
    "print(\"depth-of-tree\")\n",
    "print(depth_of_tree(tree))"
   ]
  },
  {
   "cell_type": "code",
   "execution_count": 56,
   "metadata": {},
   "outputs": [
    {
     "output_type": "stream",
     "name": "stdout",
     "text": "is_balanced_tree\nTrue\n"
    }
   ],
   "source": [
    "print(\"is_balanced_tree\")\n",
    "print(is_balanced(tree))"
   ]
  },
  {
   "cell_type": "code",
   "execution_count": 74,
   "metadata": {},
   "outputs": [
    {
     "output_type": "stream",
     "name": "stdout",
     "text": "is_full_tree: tree\nTrue\nis_full_tree: tr\nFalse\n"
    }
   ],
   "source": [
    "print(\"is_full_tree: tree\")\n",
    "print(is_full(tree))\n",
    "tr=Node(10)\n",
    "tr.left=Node(5)\n",
    "tr.left.left=Node(3)\n",
    "tr.left.right=Node(7)\n",
    "tr.right=Node(20)\n",
    "tr.right.right=Node(15)\n",
    "print(\"is_full_tree: tr\")\n",
    "print(is_full(tr))"
   ]
  },
  {
   "cell_type": "code",
   "execution_count": 89,
   "metadata": {},
   "outputs": [
    {
     "output_type": "stream",
     "name": "stdout",
     "text": "is_full_tree: tree\nTrue\nis_full_tree: tr\nFalse\nis_full_tree: tr2\nTrue\n"
    }
   ],
   "source": [
    "print(\"is_full_tree: tree\")\n",
    "print(is_complete(tree))\n",
    "print(\"is_full_tree: tr\")\n",
    "print(is_complete(tr))\n",
    "tr2=Node(1)\n",
    "tr2.right=Node(3)\n",
    "tr2.left=Node(2)\n",
    "tr2.left.left=Node(4)\n",
    "print(\"is_full_tree: tr2\")\n",
    "print(is_complete(tr2))"
   ]
  },
  {
   "cell_type": "code",
   "execution_count": 101,
   "metadata": {},
   "outputs": [
    {
     "output_type": "execute_result",
     "data": {
      "text/plain": "True"
     },
     "metadata": {},
     "execution_count": 101
    }
   ],
   "source": [
    "tr3=Node(5)\n",
    "tr3.left= Node(3)\n",
    "tr3.left.left = Node(1)\n",
    "tr3.left.right = Node(4)\n",
    "tr3.right = Node(6)\n",
    "is_bst(tr3)"
   ]
  },
  {
   "cell_type": "code",
   "execution_count": 105,
   "metadata": {},
   "outputs": [
    {
     "output_type": "stream",
     "name": "stdout",
     "text": "is_perfect\nFalse\nTrue\n"
    }
   ],
   "source": [
    "print(\"is_perfect\")\n",
    "print(is_perfect(tr3))\n",
    "\n",
    "tr4= Node(1)\n",
    "tr4.left = Node(2)\n",
    "tr4.right = Node(3)\n",
    "print(\"is_perfect\")\n",
    "print(is_perfect(tr4))"
   ]
  },
  {
   "cell_type": "markdown",
   "metadata": {},
   "source": [
    "# Binary Search Tree\n",
    "- insert\n"
   ]
  },
  {
   "cell_type": "code",
   "execution_count": 96,
   "metadata": {},
   "outputs": [],
   "source": [
    "class B_Node:\n",
    "    def __init__(self,data):\n",
    "        self.data=data\n",
    "        self.left=None\n",
    "        self.right=None\n",
    "\n",
    "def insert(root,node):\n",
    "    if root is None:\n",
    "        root = Node\n",
    "    else:\n",
    "        if root.data < node.data:\n",
    "            if root.right is None:\n",
    "                root.right = node\n",
    "            else:\n",
    "                insert(root.right,node)\n",
    "        else:\n",
    "            if root.left is None:\n",
    "                root.left = node\n",
    "            else:\n",
    "                insert(root.left,node)"
   ]
  },
  {
   "cell_type": "code",
   "execution_count": 99,
   "metadata": {},
   "outputs": [
    {
     "output_type": "execute_result",
     "data": {
      "text/plain": "{'5': ({'3': (1, 4)}, {'6': (None, 7)})}"
     },
     "metadata": {},
     "execution_count": 99
    }
   ],
   "source": [
    "btr=Node(5)\n",
    "btr.left= Node(3)\n",
    "btr.left.left = Node(1)\n",
    "btr.left.right = Node(4)\n",
    "btr.right = Node(6)\n",
    "insert(btr,Node(7))\n",
    "btr"
   ]
  }
 ],
 "metadata": {
  "language_info": {
   "codemirror_mode": {
    "name": "ipython",
    "version": 3
   },
   "file_extension": ".py",
   "mimetype": "text/x-python",
   "name": "python",
   "nbconvert_exporter": "python",
   "pygments_lexer": "ipython3",
   "version": "3.7.7-final"
  },
  "orig_nbformat": 2,
  "kernelspec": {
   "name": "python37764bitbaseconda6dbd0a79d65342aaac9adf279ef76d69",
   "display_name": "Python 3.7.7 64-bit ('base': conda)"
  }
 },
 "nbformat": 4,
 "nbformat_minor": 2
}