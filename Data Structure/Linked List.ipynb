{
 "cells": [
  {
   "cell_type": "markdown",
   "metadata": {},
   "source": [
    "# Linked List\n",
    "- Linked list represents a sequence of node.\n",
    "- Each element of a linked list is called a node.\n",
    "- Every Node has data field which contains the value to be stored in the node, and next field which point to the next node in the list\n",
    "\n",
    "## Simple Definition of Singly LinkedList"
   ]
  },
  {
   "cell_type": "code",
   "execution_count": 215,
   "metadata": {},
   "outputs": [],
   "source": [
    "class Node:\n",
    "    # initialization of Node for singly Linked List\n",
    "    def __init__(self,data):\n",
    "        self.data = str(data)\n",
    "        self.next= None\n",
    "\n",
    "    # Overwrite the representation of Node, print the data of Node out.\n",
    "    def __repr__(self):\n",
    "        return self.data\n",
    "\n",
    "class LinkedList:\n",
    "    # Initialization of singly linked list\n",
    "    def __init__(self):\n",
    "        self.head = None\n",
    "    # Overwrite the representation of LinkedList, print all the node in the list\n",
    "    def __repr__(self):\n",
    "        node = self.head\n",
    "        nodes=[]\n",
    "        while node is not None:\n",
    "            nodes.append(node.data)\n",
    "            node=node.next\n",
    "        nodes.append('None')\n",
    "        return ' -> '.join(nodes)     \n"
   ]
  },
  {
   "cell_type": "code",
   "execution_count": 191,
   "metadata": {},
   "outputs": [
    {
     "output_type": "execute_result",
     "data": {
      "text/plain": "None"
     },
     "metadata": {},
     "execution_count": 191
    }
   ],
   "source": [
    "ll=LinkedList()\n",
    "ll"
   ]
  },
  {
   "cell_type": "code",
   "execution_count": 108,
   "metadata": {},
   "outputs": [
    {
     "output_type": "stream",
     "name": "stdout",
     "text": "node1 =  a\nnode2 =  b\nnode3 =  c\n"
    }
   ],
   "source": [
    "node1=Node('a')\n",
    "node2=Node('b')\n",
    "node3=Node('c')\n",
    "print('node1 = ', node1)\n",
    "print('node2 = ', node2)\n",
    "print('node3 = ', node3)"
   ]
  },
  {
   "cell_type": "code",
   "execution_count": 110,
   "metadata": {},
   "outputs": [
    {
     "output_type": "execute_result",
     "data": {
      "text/plain": "a -> b -> c -> None"
     },
     "metadata": {},
     "execution_count": 110
    }
   ],
   "source": [
    "ll.head=node1\n",
    "node1.next=node2\n",
    "node2.next=node3\n",
    "ll"
   ]
  },
  {
   "cell_type": "code",
   "execution_count": 146,
   "metadata": {},
   "outputs": [
    {
     "output_type": "execute_result",
     "data": {
      "text/plain": "a -> b -> c -> None"
     },
     "metadata": {},
     "execution_count": 146
    }
   ],
   "source": [
    "linkedlist= Linkedlist_quick(['a','b','c'])\n",
    "linkedlist"
   ]
  },
  {
   "cell_type": "markdown",
   "metadata": {},
   "source": [
    "## Singly Linked List with add_after, add_before, remove_node function"
   ]
  },
  {
   "cell_type": "code",
   "execution_count": 264,
   "metadata": {},
   "outputs": [],
   "source": [
    "class Singly_linkedlist():\n",
    "    def __init__(self, nodes=None):\n",
    "        self.head = None\n",
    "        if nodes is not None:\n",
    "            node=Node(nodes.pop(0))\n",
    "            self.head = node\n",
    "            for i in nodes:\n",
    "                node.next=Node(data=i)\n",
    "                node=node.next\n",
    "    def __repr__(self):\n",
    "        node = self.head\n",
    "        nodes=[]\n",
    "        while node is not None:\n",
    "            nodes.append(node.data)\n",
    "            node=node.next\n",
    "        nodes.append('None')\n",
    "        return \"->\".join(str(i) for i in nodes )\n",
    "    # Traverse of a Linked List\n",
    "    def __iter__ (self):\n",
    "        node = self.head\n",
    "        while node is not None:\n",
    "            yield node\n",
    "            node = node.next\n",
    "    # Insert a node after the first occurance of a given value \n",
    "    def add_after (self,target_node_data,new_node):\n",
    "        if self.head is None:\n",
    "            raise Exception('List is empty')\n",
    "\n",
    "        for node in self:\n",
    "            if str(node.data)==str(target_node_data):\n",
    "                new_node.next=node.next\n",
    "                node.next=new_node\n",
    "                return\n",
    "        raise Exception(\"Node with data '%s' not found in the List\" % target_node_data)\n",
    "\n",
    "    # Insert a node before the first occurance of a given value \n",
    "    def add_before(self, target_node_data,new_node):\n",
    "        if self.head is None:\n",
    "            raise Exception(\"List is empty\")\n",
    "        if str(self.head.data) == str(target_node_data):\n",
    "            new_node.next=self.head\n",
    "            self.head=new_node\n",
    "        prev_node=self.head\n",
    "        for node in self:\n",
    "            if str(node.data)==target_node_data:\n",
    "                prev_node.next=new_node\n",
    "                new_node.next=node\n",
    "                return \n",
    "            prev_node = node\n",
    "\n",
    "            \n",
    "    # remove the node with the first occurance of value\n",
    "    def remove_node(self,target_node_data):\n",
    "        if str(self.head.data) == str(target_node_data):\n",
    "            self.head=self.head.next\n",
    "            return\n",
    "        prev_node=self.head\n",
    "        for node in self:\n",
    "            if str(node.data)==str(target_node_data):\n",
    "                prev_node.next=node.next\n",
    "                return\n",
    "            prev_node=node\n",
    "        raise Exception(\"Node with data '%s' not found in the List\" % target_node_data)\n"
   ]
  },
  {
   "cell_type": "code",
   "execution_count": 272,
   "metadata": {},
   "outputs": [
    {
     "output_type": "stream",
     "name": "stdout",
     "text": "1\n2\n3\n"
    }
   ],
   "source": [
    "l1=Singly_linkedlist([1,2,3])\n",
    "for i in l1:\n",
    "    print(i)"
   ]
  },
  {
   "cell_type": "code",
   "execution_count": 273,
   "metadata": {},
   "outputs": [
    {
     "output_type": "execute_result",
     "data": {
      "text/plain": "1->2->3->8->None"
     },
     "metadata": {},
     "execution_count": 273
    }
   ],
   "source": [
    "l1.add_after(3,Node(8))\n",
    "l1"
   ]
  },
  {
   "cell_type": "code",
   "execution_count": 274,
   "metadata": {},
   "outputs": [
    {
     "output_type": "execute_result",
     "data": {
      "text/plain": "10->1->2->3->8->None"
     },
     "metadata": {},
     "execution_count": 274
    }
   ],
   "source": [
    "l1.add_before(1,Node(10))\n",
    "l1"
   ]
  },
  {
   "cell_type": "code",
   "execution_count": 275,
   "metadata": {},
   "outputs": [
    {
     "output_type": "execute_result",
     "data": {
      "text/plain": "10->1->3->8->None"
     },
     "metadata": {},
     "execution_count": 275
    }
   ],
   "source": [
    "l1.remove_node(2)\n",
    "l1"
   ]
  },
  {
   "cell_type": "markdown",
   "metadata": {},
   "source": [
    "## Circular Linked List with tranverse and print_list function"
   ]
  },
  {
   "cell_type": "code",
   "execution_count": 288,
   "metadata": {},
   "outputs": [],
   "source": [
    "class DNode:\n",
    "    def __init__(self,data):\n",
    "        self.data=data\n",
    "        self.next=None\n",
    "        self.prev= None\n",
    "    def __repr__(self):\n",
    "        return self.data\n",
    "\n",
    "class CircularLinkedList:\n",
    "    def __init__(self):\n",
    "        self.head = None\n",
    "    def tranverse (self, start_point = None):\n",
    "        if start_point is None:\n",
    "            start_point=self.head\n",
    "        node=start_point\n",
    "        while node is not None and (node.next != start_point):\n",
    "            yield node\n",
    "            node=node.next\n",
    "        yield node\n",
    "    def print_list(self,start_point=None):\n",
    "        nodes=[]\n",
    "        for node in self.tranverse(start_point):\n",
    "            nodes.append(str(node))\n",
    "        return (\"->\").join(str(i) for i in nodes)\n"
   ]
  },
  {
   "cell_type": "code",
   "execution_count": null,
   "metadata": {},
   "outputs": [],
   "source": []
  },
  {
   "cell_type": "code",
   "execution_count": 296,
   "metadata": {},
   "outputs": [
    {
     "output_type": "execute_result",
     "data": {
      "text/plain": "'a->b->c->d'"
     },
     "metadata": {},
     "execution_count": 296
    }
   ],
   "source": [
    "clist=CircularLinkedList()\n",
    "clist.print_list()\n",
    "a=DNode('a')\n",
    "b=DNode('b')\n",
    "c=DNode('c')\n",
    "d=DNode('d')\n",
    "a.next=b\n",
    "b.next=c\n",
    "c.next=d\n",
    "d.next=a\n",
    "\n",
    "clist.head=a\n",
    "clist.print_list()\n"
   ]
  },
  {
   "cell_type": "code",
   "execution_count": null,
   "metadata": {},
   "outputs": [],
   "source": [
    "## Doubly Linked List with push, add_after and print"
   ]
  },
  {
   "cell_type": "code",
   "execution_count": 298,
   "metadata": {},
   "outputs": [],
   "source": [
    "\n",
    "class Doubly_Linkedlist:\n",
    "    def __init__(self):\n",
    "        self.head = None\n",
    "    def __repr__(self):\n",
    "        node = self.head\n",
    "        nodes=[]\n",
    "        while node is not None:\n",
    "            nodes.append(node.data)\n",
    "            node=node.next\n",
    "        nodes.append('None')\n",
    "        return \"->\".join(str(i) for i in nodes )\n",
    "\n",
    "    def push(self,new_val):\n",
    "        new_node=DNode(new_val)\n",
    "        new_node.next = self.head\n",
    "        if self.head is not None:\n",
    "            self.head.prev = new_node\n",
    "        self.head = new_node\n",
    "\n",
    "    def add_after(self,prev_node,new_node):\n",
    "        if prev_node is None:\n",
    "            return\n",
    "        new_node.next=prev_node.next\n",
    "        prev_node.next=new_node\n",
    "        new_node.prev=prev_node\n",
    "    \n",
    "    def print_list(self,node):\n",
    "        nodes=[]\n",
    "        while node is not None:\n",
    "            nodes.append(node.data)\n",
    "            node=node.next\n",
    "        nodes.append('None')\n",
    "        return \"->\".join(str(i) for i in nodes )\n",
    "            \n",
    "        "
   ]
  },
  {
   "cell_type": "code",
   "execution_count": 299,
   "metadata": {},
   "outputs": [
    {
     "output_type": "stream",
     "name": "stdout",
     "text": "None\n1->None\n2->1->None\n2->1->5->None\n"
    }
   ],
   "source": [
    "dlist=Doubly_Linkedlist()\n",
    "print(dlist)\n",
    "dlist.push(1)\n",
    "print(dlist)\n",
    "dlist.push(2)\n",
    "print(dlist)\n",
    "dlist.add_after(dlist.head.next,DNode(5))\n",
    "print(dlist)"
   ]
  }
 ],
 "metadata": {
  "language_info": {
   "codemirror_mode": {
    "name": "ipython",
    "version": 3
   },
   "file_extension": ".py",
   "mimetype": "text/x-python",
   "name": "python",
   "nbconvert_exporter": "python",
   "pygments_lexer": "ipython3",
   "version": "3.7.7-final"
  },
  "orig_nbformat": 2,
  "kernelspec": {
   "name": "python37764bitbaseconda6dbd0a79d65342aaac9adf279ef76d69",
   "display_name": "Python 3.7.7 64-bit ('base': conda)"
  }
 },
 "nbformat": 4,
 "nbformat_minor": 2
}