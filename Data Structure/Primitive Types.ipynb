{
 "cells": [
  {
   "cell_type": "markdown",
   "metadata": {},
   "source": [
    "# Primitive Types"
   ]
  },
  {
   "cell_type": "markdown",
   "metadata": {},
   "source": [
    "Python built-in types:\n",
    "- numerics\n",
    "- sequences\n",
    "- mappings\n",
    "- classes\n",
    "- instances\n",
    "- exceptions"
   ]
  },
  {
   "cell_type": "markdown",
   "metadata": {},
   "source": [
    "## Bit-wise operators\n",
    "Operator copies a bit to the result if it exists in:\n",
    "- &  both\n",
    "- |  either\n",
    "- ^  XOR\n",
    "- ~  flipping bits\n",
    "- '<<'  The left operands value is moved left by the number of bits specified by the right operand.\n",
    "- '>>'  The left operands value is moved right by the number of bits specified by the right operand."
   ]
  }
 ],
 "metadata": {
  "language_info": {
   "codemirror_mode": {
    "name": "ipython",
    "version": 3
   },
   "file_extension": ".py",
   "mimetype": "text/x-python",
   "name": "python",
   "nbconvert_exporter": "python",
   "pygments_lexer": "ipython3",
   "version": 3
  },
  "orig_nbformat": 2
 },
 "nbformat": 4,
 "nbformat_minor": 2
}