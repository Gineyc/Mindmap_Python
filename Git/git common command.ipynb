{
 "cells": [
  {
   "cell_type": "markdown",
   "metadata": {},
   "source": [
    "[Nice practice example](https://learngitbranching.js.org)\n"
   ]
  },
  {
   "cell_type": "markdown",
   "metadata": {},
   "source": [
    "# Remote"
   ]
  },
  {
   "cell_type": "markdown",
   "metadata": {},
   "source": [
    "## git init\n",
    "Git repository initialization\n",
    "It turns a directory into an empty Git repository"
   ]
  },
  {
   "cell_type": "markdown",
   "metadata": {},
   "source": [
    "## git add\n",
    "add files into the staging area for Git\n",
    "\n",
    "\n",
    "- To add all files not staged: git add.\n",
    "- To stage a specific file: git add <filename.extention>\n",
    "- To stage a specific folder: git add <folder name>"
   ]
  },
  {
   "cell_type": "markdown",
   "metadata": {},
   "source": [
    "## git commit\n",
    "To record the changes of files to a local repository.\n",
    "\n",
    "Each commit has a unique id.\n",
    "\n",
    "git commit -m \"COMMIT MESSAGE\"\n",
    "git commit --amend\n",
    "git commit -a\n",
    "git commit -all\n",
    "git commit -am\n",
    "git commit -m"
   ]
  },
  {
   "cell_type": "markdown",
   "metadata": {},
   "source": [
    "## git fetch\n",
    "- download the commits that the remote has but are missing from out local repository.\n",
    "- update where our remote point"
   ]
  },
  {
   "cell_type": "markdown",
   "metadata": {},
   "source": [
    "## git pull\n",
    "- git pull  == git fetch, git merge local/master\n"
   ]
  },
  {
   "cell_type": "markdown",
   "metadata": {},
   "source": [
    "## git push\n",
    "push your local repository to remote repository\n",
    "\n",
    "git push <branch_name>\n",
    "git push --force <branch_name>"
   ]
  },
  {
   "cell_type": "markdown",
   "metadata": {},
   "source": [
    "# Local"
   ]
  },
  {
   "cell_type": "markdown",
   "metadata": {},
   "source": [
    "## git status\n",
    "Return the current state of the repository\n"
   ]
  },
  {
   "cell_type": "markdown",
   "metadata": {},
   "source": [
    "## git branch\n",
    "- To create a new branch: git branch <branch_name>\n",
    "- List all branches: git branch -a\n",
    "- Delete a branch: git branch -d <branch_name>"
   ]
  },
  {
   "cell_type": "markdown",
   "metadata": {},
   "source": [
    "## git checkout\n",
    "- To checkout a existing branch: git checkout <branch_name>\n",
    "- To add a new branch and checkout with its name: git checkout -b <new_branch>\n"
   ]
  },
  {
   "cell_type": "markdown",
   "metadata": {},
   "source": [
    "## git merge\n",
    "- To merge changes into current branch: git merge <branch_name>"
   ]
  },
  {
   "cell_type": "markdown",
   "metadata": {},
   "source": [
    "## git rebase\n",
    "- The whole branch is moved with the branch pointing to the replayed commits.\n",
    "\n",
    "- To reapply commits on top of another base tip: git rebase <to_branch_name> <from_branch_name>"
   ]
  },
  {
   "cell_type": "markdown",
   "metadata": {},
   "source": [
    "## git cherry-pick\n",
    "- To pick changes from the other branch and put them on top your branch Head: git cherry_pick <from_branch_name>"
   ]
  },
  {
   "cell_type": "code",
   "execution_count": null,
   "metadata": {},
   "outputs": [],
   "source": []
  }
 ],
 "metadata": {
  "language_info": {
   "codemirror_mode": {
    "name": "ipython",
    "version": 3
   },
   "file_extension": ".py",
   "mimetype": "text/x-python",
   "name": "python",
   "nbconvert_exporter": "python",
   "pygments_lexer": "ipython3",
   "version": "3.7.7-final"
  },
  "orig_nbformat": 2,
  "kernelspec": {
   "name": "python37764bitbaseconda6dbd0a79d65342aaac9adf279ef76d69",
   "display_name": "Python 3.7.7 64-bit ('base': conda)"
  }
 },
 "nbformat": 4,
 "nbformat_minor": 2
}